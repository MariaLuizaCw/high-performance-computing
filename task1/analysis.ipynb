{
 "cells": [
  {
   "attachments": {},
   "cell_type": "markdown",
   "metadata": {},
   "source": [
    "## Bibliotecas"
   ]
  },
  {
   "cell_type": "code",
   "execution_count": 1,
   "metadata": {},
   "outputs": [],
   "source": [
    "import subprocess\n",
    "import pandas as pd\n",
    "import numpy as np\n",
    "import matplotlib.pyplot as plt"
   ]
  },
  {
   "attachments": {},
   "cell_type": "markdown",
   "metadata": {},
   "source": [
    "## Estimativa da memória\n",
    "\n",
    "- O ambiente utilizado para essa execução é um WSL com Ubunto como OS\n",
    "- No momento da execução, há MemFree é a quantidade de memória livre, do total (MemTotal) do sistema\n",
    "\n",
    "O Valor da memória livre varia dependendo dos programas em execução"
   ]
  },
  {
   "cell_type": "code",
   "execution_count": 70,
   "metadata": {},
   "outputs": [
    {
     "name": "stdout",
     "output_type": "stream",
     "text": [
      "MemTotal:       16469120 kB\n",
      "\n",
      "MemFree:        13079732 kB\n",
      "\n"
     ]
    }
   ],
   "source": [
    "with open(\"/proc/meminfo\", 'r') as memory_status:\n",
    "    lines = memory_status.readlines()\n",
    "    memtotal = int(lines[0].split('kB')[0].split(':')[1])\n",
    "    memfree = int(lines[1].split('kB')[0].split(':')[1])\n",
    "    print(lines[0])\n",
    "    print(lines[1])\n",
    "    "
   ]
  },
  {
   "attachments": {},
   "cell_type": "markdown",
   "metadata": {},
   "source": [
    "O consumo de memória dos programa se dá, manjoritariamente, pela alocação da matriz, ou seja, complexidade de espaço $O(n^2)$. Dessa forma, assumindo que os programas só utilizarão a RAM disponível, temos que:\n",
    "\n",
    "$$\n",
    "    n_{max}^2  \\cdot size(e) \\leq mfree \\\\\n",
    "   \n",
    "$$\n",
    "$$\n",
    " n_{max} \\leq \\sqrt{\\frac{mfree}{size(e)}}\n",
    "$$\n",
    "\n",
    "Sendo $n_{max}$ o tamanho máximo da dimensão da matriz, $size(e)$ o número de bytes necessários para armazenar um elemento da matriz e  $mfree$ a quantidade de memória livre em bytes.\n",
    "\n",
    "\n",
    "Nesse sentindo, supondo que a memória impressa anteriormente estará livre e disponível para a alocação pelo programador, no momento da execução do programa, teríamos os seguintes valores de $n_{max}$ para Fortran utilizando tipo $Real$ ( $size(e) = 4$) e para C utilizando tipo $float$ ($size(e) = 4$).\n"
   ]
  },
  {
   "cell_type": "code",
   "execution_count": 71,
   "metadata": {},
   "outputs": [
    {
     "data": {
      "text/plain": [
       "57183"
      ]
     },
     "execution_count": 71,
     "metadata": {},
     "output_type": "execute_result"
    }
   ],
   "source": [
    "n_max = round(np.sqrt(memfree*1000/4))\n",
    "n_max"
   ]
  },
  {
   "attachments": {},
   "cell_type": "markdown",
   "metadata": {},
   "source": [
    "- Vamos testar o programas para várias dimensões $n$, aumentando-as de 1000 unidades a cada passo até chegar no máximo estimado. Isso vai nos dar 57 pontos para a curva."
   ]
  },
  {
   "cell_type": "code",
   "execution_count": 95,
   "metadata": {},
   "outputs": [
    {
     "data": {
      "text/plain": [
       "57.183"
      ]
     },
     "execution_count": 95,
     "metadata": {},
     "output_type": "execute_result"
    }
   ],
   "source": [
    "n_max/1000"
   ]
  },
  {
   "attachments": {},
   "cell_type": "markdown",
   "metadata": {},
   "source": [
    "## Estimativa de Tempo para cada N"
   ]
  },
  {
   "attachments": {},
   "cell_type": "markdown",
   "metadata": {},
   "source": [
    "### Para o programa em Fortran\n",
    "<hr/>"
   ]
  },
  {
   "attachments": {},
   "cell_type": "markdown",
   "metadata": {},
   "source": [
    "- Sem inverter o loop"
   ]
  },
  {
   "cell_type": "code",
   "execution_count": 7,
   "metadata": {},
   "outputs": [],
   "source": [
    "csv_file = 'results/fortran_lines_first.csv'\n",
    "with open(csv_file, 'a') as f:\n",
    "    f.write('n,tempo\\n')"
   ]
  },
  {
   "cell_type": "code",
   "execution_count": 51,
   "metadata": {},
   "outputs": [],
   "source": [
    "for n in range(1000, n_max, 1000):\n",
    "    try:\n",
    "        out = subprocess.check_output([\"./src/program2.out\", f'{n}', '0'])\n",
    "    except subprocess.CalledProcessError as e:\n",
    "        print(e.output)\n",
    "        break\n",
    "    else: \n",
    "        with open(csv_file, 'a') as f:\n",
    "            f.write(f'{n}, {float(out)}\\n')"
   ]
  },
  {
   "attachments": {},
   "cell_type": "markdown",
   "metadata": {},
   "source": [
    "- Invertendo o loop"
   ]
  },
  {
   "cell_type": "code",
   "execution_count": 96,
   "metadata": {},
   "outputs": [],
   "source": [
    "csv_file = 'results/fortran_columns_first.csv'\n",
    "with open(csv_file, 'a') as f:\n",
    "    f.write('n,tempo\\n')"
   ]
  },
  {
   "cell_type": "code",
   "execution_count": null,
   "metadata": {},
   "outputs": [],
   "source": [
    "for n in range(1000, n_max, 1000):\n",
    "    try:\n",
    "        out = subprocess.check_output([\"./src/program2.out\", f'{n}', '1'])\n",
    "    except subprocess.CalledProcessError as e:\n",
    "        print(e.output)\n",
    "        break\n",
    "    else: \n",
    "        with open(csv_file, 'a') as f:\n",
    "            f.write(f'{n}, {float(out)}\\n')"
   ]
  },
  {
   "attachments": {},
   "cell_type": "markdown",
   "metadata": {},
   "source": [
    "### Para o programa em C\n",
    "<hr/>"
   ]
  },
  {
   "attachments": {},
   "cell_type": "markdown",
   "metadata": {},
   "source": [
    "- Sem inverter o loop"
   ]
  },
  {
   "cell_type": "code",
   "execution_count": null,
   "metadata": {},
   "outputs": [],
   "source": [
    "csv_file = 'results/c_lines_first.csv'\n",
    "with open(csv_file, 'a') as f:\n",
    "    f.write('n,tempo\\n')"
   ]
  },
  {
   "cell_type": "code",
   "execution_count": null,
   "metadata": {},
   "outputs": [
    {
     "name": "stdout",
     "output_type": "stream",
     "text": [
      "b''\n"
     ]
    }
   ],
   "source": [
    "for n in range(1000, n_max, 1000):\n",
    "    try:\n",
    "        out = subprocess.check_output([\"./src/program2.out\", f'{n}', '0'])\n",
    "    except subprocess.CalledProcessError as e:\n",
    "        print(e.output)\n",
    "        break\n",
    "    else: \n",
    "        with open(csv_file, 'a') as f:\n",
    "            f.write(f'{n}, {float(out)}\\n')"
   ]
  },
  {
   "attachments": {},
   "cell_type": "markdown",
   "metadata": {},
   "source": [
    "- Invertendo o loop"
   ]
  },
  {
   "cell_type": "code",
   "execution_count": null,
   "metadata": {},
   "outputs": [],
   "source": [
    "csv_file = 'results/c_columns_first.csv'\n",
    "with open(csv_file, 'a') as f:\n",
    "    f.write('n,tempo\\n')"
   ]
  },
  {
   "cell_type": "code",
   "execution_count": null,
   "metadata": {},
   "outputs": [],
   "source": [
    "for n in range(1000, n_max, 1000):\n",
    "    try:\n",
    "        out = subprocess.check_output([\"./src/program2.out\", f'{n}', '1'])\n",
    "    except subprocess.CalledProcessError as e:\n",
    "        print(e.output)\n",
    "        break\n",
    "    else: \n",
    "        with open(csv_file, 'a') as f:\n",
    "            f.write(f'{n}, {float(out)}\\n')"
   ]
  },
  {
   "attachments": {},
   "cell_type": "markdown",
   "metadata": {},
   "source": [
    "## Análise\n"
   ]
  },
  {
   "cell_type": "code",
   "execution_count": 91,
   "metadata": {},
   "outputs": [],
   "source": [
    "fortran_cl = pd.read_csv('results/fortran_columns_first.csv')\n"
   ]
  },
  {
   "cell_type": "code",
   "execution_count": 92,
   "metadata": {},
   "outputs": [
    {
     "data": {
      "text/html": [
       "<div>\n",
       "<style scoped>\n",
       "    .dataframe tbody tr th:only-of-type {\n",
       "        vertical-align: middle;\n",
       "    }\n",
       "\n",
       "    .dataframe tbody tr th {\n",
       "        vertical-align: top;\n",
       "    }\n",
       "\n",
       "    .dataframe thead th {\n",
       "        text-align: right;\n",
       "    }\n",
       "</style>\n",
       "<table border=\"1\" class=\"dataframe\">\n",
       "  <thead>\n",
       "    <tr style=\"text-align: right;\">\n",
       "      <th></th>\n",
       "      <th>1000</th>\n",
       "      <th>0.0</th>\n",
       "    </tr>\n",
       "  </thead>\n",
       "  <tbody>\n",
       "    <tr>\n",
       "      <th>0</th>\n",
       "      <td>2000</td>\n",
       "      <td>0.031250</td>\n",
       "    </tr>\n",
       "    <tr>\n",
       "      <th>1</th>\n",
       "      <td>3000</td>\n",
       "      <td>0.046875</td>\n",
       "    </tr>\n",
       "    <tr>\n",
       "      <th>2</th>\n",
       "      <td>4000</td>\n",
       "      <td>0.062500</td>\n",
       "    </tr>\n",
       "    <tr>\n",
       "      <th>3</th>\n",
       "      <td>5000</td>\n",
       "      <td>0.093750</td>\n",
       "    </tr>\n",
       "    <tr>\n",
       "      <th>4</th>\n",
       "      <td>6000</td>\n",
       "      <td>0.140625</td>\n",
       "    </tr>\n",
       "    <tr>\n",
       "      <th>5</th>\n",
       "      <td>7000</td>\n",
       "      <td>0.203125</td>\n",
       "    </tr>\n",
       "    <tr>\n",
       "      <th>6</th>\n",
       "      <td>8000</td>\n",
       "      <td>0.265625</td>\n",
       "    </tr>\n",
       "    <tr>\n",
       "      <th>7</th>\n",
       "      <td>9000</td>\n",
       "      <td>0.296875</td>\n",
       "    </tr>\n",
       "    <tr>\n",
       "      <th>8</th>\n",
       "      <td>10000</td>\n",
       "      <td>0.453125</td>\n",
       "    </tr>\n",
       "    <tr>\n",
       "      <th>9</th>\n",
       "      <td>11000</td>\n",
       "      <td>0.484375</td>\n",
       "    </tr>\n",
       "    <tr>\n",
       "      <th>10</th>\n",
       "      <td>12000</td>\n",
       "      <td>0.562500</td>\n",
       "    </tr>\n",
       "    <tr>\n",
       "      <th>11</th>\n",
       "      <td>13000</td>\n",
       "      <td>0.656250</td>\n",
       "    </tr>\n",
       "    <tr>\n",
       "      <th>12</th>\n",
       "      <td>14000</td>\n",
       "      <td>0.734375</td>\n",
       "    </tr>\n",
       "    <tr>\n",
       "      <th>13</th>\n",
       "      <td>15000</td>\n",
       "      <td>1.015625</td>\n",
       "    </tr>\n",
       "    <tr>\n",
       "      <th>14</th>\n",
       "      <td>16000</td>\n",
       "      <td>1.062500</td>\n",
       "    </tr>\n",
       "    <tr>\n",
       "      <th>15</th>\n",
       "      <td>17000</td>\n",
       "      <td>1.171875</td>\n",
       "    </tr>\n",
       "    <tr>\n",
       "      <th>16</th>\n",
       "      <td>18000</td>\n",
       "      <td>1.328125</td>\n",
       "    </tr>\n",
       "    <tr>\n",
       "      <th>17</th>\n",
       "      <td>19000</td>\n",
       "      <td>1.453125</td>\n",
       "    </tr>\n",
       "    <tr>\n",
       "      <th>18</th>\n",
       "      <td>20000</td>\n",
       "      <td>1.625000</td>\n",
       "    </tr>\n",
       "    <tr>\n",
       "      <th>19</th>\n",
       "      <td>21000</td>\n",
       "      <td>1.750000</td>\n",
       "    </tr>\n",
       "    <tr>\n",
       "      <th>20</th>\n",
       "      <td>22000</td>\n",
       "      <td>1.937500</td>\n",
       "    </tr>\n",
       "    <tr>\n",
       "      <th>21</th>\n",
       "      <td>23000</td>\n",
       "      <td>2.734375</td>\n",
       "    </tr>\n",
       "    <tr>\n",
       "      <th>22</th>\n",
       "      <td>24000</td>\n",
       "      <td>2.421875</td>\n",
       "    </tr>\n",
       "    <tr>\n",
       "      <th>23</th>\n",
       "      <td>25000</td>\n",
       "      <td>2.781250</td>\n",
       "    </tr>\n",
       "    <tr>\n",
       "      <th>24</th>\n",
       "      <td>26000</td>\n",
       "      <td>2.796875</td>\n",
       "    </tr>\n",
       "    <tr>\n",
       "      <th>25</th>\n",
       "      <td>27000</td>\n",
       "      <td>3.109375</td>\n",
       "    </tr>\n",
       "    <tr>\n",
       "      <th>26</th>\n",
       "      <td>28000</td>\n",
       "      <td>3.265625</td>\n",
       "    </tr>\n",
       "    <tr>\n",
       "      <th>27</th>\n",
       "      <td>29000</td>\n",
       "      <td>3.562500</td>\n",
       "    </tr>\n",
       "    <tr>\n",
       "      <th>28</th>\n",
       "      <td>30000</td>\n",
       "      <td>4.296875</td>\n",
       "    </tr>\n",
       "    <tr>\n",
       "      <th>29</th>\n",
       "      <td>31000</td>\n",
       "      <td>3.843750</td>\n",
       "    </tr>\n",
       "    <tr>\n",
       "      <th>30</th>\n",
       "      <td>32000</td>\n",
       "      <td>3.984375</td>\n",
       "    </tr>\n",
       "    <tr>\n",
       "      <th>31</th>\n",
       "      <td>33000</td>\n",
       "      <td>4.171875</td>\n",
       "    </tr>\n",
       "    <tr>\n",
       "      <th>32</th>\n",
       "      <td>34000</td>\n",
       "      <td>4.515625</td>\n",
       "    </tr>\n",
       "    <tr>\n",
       "      <th>33</th>\n",
       "      <td>35000</td>\n",
       "      <td>5.781250</td>\n",
       "    </tr>\n",
       "    <tr>\n",
       "      <th>34</th>\n",
       "      <td>36000</td>\n",
       "      <td>5.265625</td>\n",
       "    </tr>\n",
       "    <tr>\n",
       "      <th>35</th>\n",
       "      <td>37000</td>\n",
       "      <td>5.375000</td>\n",
       "    </tr>\n",
       "    <tr>\n",
       "      <th>36</th>\n",
       "      <td>38000</td>\n",
       "      <td>5.921875</td>\n",
       "    </tr>\n",
       "    <tr>\n",
       "      <th>37</th>\n",
       "      <td>39000</td>\n",
       "      <td>6.156250</td>\n",
       "    </tr>\n",
       "    <tr>\n",
       "      <th>38</th>\n",
       "      <td>40000</td>\n",
       "      <td>6.546875</td>\n",
       "    </tr>\n",
       "    <tr>\n",
       "      <th>39</th>\n",
       "      <td>41000</td>\n",
       "      <td>7.187500</td>\n",
       "    </tr>\n",
       "    <tr>\n",
       "      <th>40</th>\n",
       "      <td>42000</td>\n",
       "      <td>7.218750</td>\n",
       "    </tr>\n",
       "    <tr>\n",
       "      <th>41</th>\n",
       "      <td>43000</td>\n",
       "      <td>7.265625</td>\n",
       "    </tr>\n",
       "    <tr>\n",
       "      <th>42</th>\n",
       "      <td>44000</td>\n",
       "      <td>7.765625</td>\n",
       "    </tr>\n",
       "    <tr>\n",
       "      <th>43</th>\n",
       "      <td>45000</td>\n",
       "      <td>7.843750</td>\n",
       "    </tr>\n",
       "    <tr>\n",
       "      <th>44</th>\n",
       "      <td>46000</td>\n",
       "      <td>8.031250</td>\n",
       "    </tr>\n",
       "    <tr>\n",
       "      <th>45</th>\n",
       "      <td>47000</td>\n",
       "      <td>9.671875</td>\n",
       "    </tr>\n",
       "    <tr>\n",
       "      <th>46</th>\n",
       "      <td>48000</td>\n",
       "      <td>9.000000</td>\n",
       "    </tr>\n",
       "    <tr>\n",
       "      <th>47</th>\n",
       "      <td>49000</td>\n",
       "      <td>10.750000</td>\n",
       "    </tr>\n",
       "    <tr>\n",
       "      <th>48</th>\n",
       "      <td>50000</td>\n",
       "      <td>10.656250</td>\n",
       "    </tr>\n",
       "    <tr>\n",
       "      <th>49</th>\n",
       "      <td>51000</td>\n",
       "      <td>18.296875</td>\n",
       "    </tr>\n",
       "    <tr>\n",
       "      <th>50</th>\n",
       "      <td>52000</td>\n",
       "      <td>17.296875</td>\n",
       "    </tr>\n",
       "    <tr>\n",
       "      <th>51</th>\n",
       "      <td>53000</td>\n",
       "      <td>11.750000</td>\n",
       "    </tr>\n",
       "    <tr>\n",
       "      <th>52</th>\n",
       "      <td>54000</td>\n",
       "      <td>12.296875</td>\n",
       "    </tr>\n",
       "    <tr>\n",
       "      <th>53</th>\n",
       "      <td>55000</td>\n",
       "      <td>20.109375</td>\n",
       "    </tr>\n",
       "  </tbody>\n",
       "</table>\n",
       "</div>"
      ],
      "text/plain": [
       "     1000        0.0\n",
       "0    2000   0.031250\n",
       "1    3000   0.046875\n",
       "2    4000   0.062500\n",
       "3    5000   0.093750\n",
       "4    6000   0.140625\n",
       "5    7000   0.203125\n",
       "6    8000   0.265625\n",
       "7    9000   0.296875\n",
       "8   10000   0.453125\n",
       "9   11000   0.484375\n",
       "10  12000   0.562500\n",
       "11  13000   0.656250\n",
       "12  14000   0.734375\n",
       "13  15000   1.015625\n",
       "14  16000   1.062500\n",
       "15  17000   1.171875\n",
       "16  18000   1.328125\n",
       "17  19000   1.453125\n",
       "18  20000   1.625000\n",
       "19  21000   1.750000\n",
       "20  22000   1.937500\n",
       "21  23000   2.734375\n",
       "22  24000   2.421875\n",
       "23  25000   2.781250\n",
       "24  26000   2.796875\n",
       "25  27000   3.109375\n",
       "26  28000   3.265625\n",
       "27  29000   3.562500\n",
       "28  30000   4.296875\n",
       "29  31000   3.843750\n",
       "30  32000   3.984375\n",
       "31  33000   4.171875\n",
       "32  34000   4.515625\n",
       "33  35000   5.781250\n",
       "34  36000   5.265625\n",
       "35  37000   5.375000\n",
       "36  38000   5.921875\n",
       "37  39000   6.156250\n",
       "38  40000   6.546875\n",
       "39  41000   7.187500\n",
       "40  42000   7.218750\n",
       "41  43000   7.265625\n",
       "42  44000   7.765625\n",
       "43  45000   7.843750\n",
       "44  46000   8.031250\n",
       "45  47000   9.671875\n",
       "46  48000   9.000000\n",
       "47  49000  10.750000\n",
       "48  50000  10.656250\n",
       "49  51000  18.296875\n",
       "50  52000  17.296875\n",
       "51  53000  11.750000\n",
       "52  54000  12.296875\n",
       "53  55000  20.109375"
      ]
     },
     "execution_count": 92,
     "metadata": {},
     "output_type": "execute_result"
    }
   ],
   "source": [
    "fortran_cl"
   ]
  },
  {
   "cell_type": "code",
   "execution_count": 94,
   "metadata": {},
   "outputs": [
    {
     "data": {
      "text/plain": [
       "[<matplotlib.lines.Line2D at 0x7f49eae44280>]"
      ]
     },
     "execution_count": 94,
     "metadata": {},
     "output_type": "execute_result"
    },
    {
     "data": {
      "image/png": "[encoded data removed]",
      "text/plain": [
       "<Figure size 640x480 with 1 Axes>"
      ]
     },
     "metadata": {},
     "output_type": "display_data"
    }
   ],
   "source": [
    "plt.plot(np.array(teste['n'].to_list()), np.array(teste['tempo'].to_list()))"
   ]
  },
  {
   "cell_type": "code",
   "execution_count": 11,
   "metadata": {},
   "outputs": [],
   "source": [
    "fortran_cl = pd.read_csv('results/fortran_cl.csv')\n",
    "\n",
    "fortran_lc = pd.read_csv('results/fortran_lc.csv')\n"
   ]
  },
  {
   "cell_type": "code",
   "execution_count": 22,
   "metadata": {},
   "outputs": [],
   "source": [
    "c_cl = pd.read_csv('results/c_cl.csv')\n",
    "\n",
    "c_lc = pd.read_csv('results/c_lc.csv')\n"
   ]
  },
  {
   "cell_type": "code",
   "execution_count": 23,
   "metadata": {},
   "outputs": [],
   "source": [
    "n_log = np.log2(np.array(fortran_cl['n'].to_list()))\n",
    "fortran_cl_time = np.array(fortran_cl['tempo'].to_list())\n",
    "fortran_lc_time = np.array(fortran_lc['tempo'].to_list())\n",
    "c_cl_time = np.array(c_cl['tempo'].to_list())\n",
    "c_lc_time = np.array(c_lc['tempo'].to_list())\n"
   ]
  },
  {
   "cell_type": "code",
   "execution_count": 21,
   "metadata": {},
   "outputs": [
    {
     "data": {
      "text/plain": [
       "[<matplotlib.lines.Line2D at 0x7f49ec6eb1f0>]"
      ]
     },
     "execution_count": 21,
     "metadata": {},
     "output_type": "execute_result"
    },
    {
     "data": {
      "image/png": "[encoded data removed]",
      "text/plain": [
       "<Figure size 640x480 with 1 Axes>"
      ]
     },
     "metadata": {},
     "output_type": "display_data"
    }
   ],
   "source": [
    "plt.plot(n_log, fortran_cl_time)\n",
    "plt.plot(n_log, fortran_lc_time)"
   ]
  },
  {
   "cell_type": "code",
   "execution_count": 24,
   "metadata": {},
   "outputs": [
    {
     "data": {
      "text/plain": [
       "[<matplotlib.lines.Line2D at 0x7f49ec662e50>]"
      ]
     },
     "execution_count": 24,
     "metadata": {},
     "output_type": "execute_result"
    },
    {
     "data": {
      "image/png": "[encoded data removed]",
      "text/plain": [
       "<Figure size 640x480 with 1 Axes>"
      ]
     },
     "metadata": {},
     "output_type": "display_data"
    }
   ],
   "source": [
    "plt.plot(n_log, c_cl_time)\n",
    "plt.plot(n_log, c_lc_time)"
   ]
  },
  {
   "cell_type": "code",
   "execution_count": 28,
   "metadata": {},
   "outputs": [
    {
     "name": "stderr",
     "output_type": "stream",
     "text": [
      "/tmp/ipykernel_245/661388730.py:1: RuntimeWarning: divide by zero encountered in log2\n",
      "  plt.plot(n_log, np.log2(fortran_cl_time))\n",
      "/tmp/ipykernel_245/661388730.py:2: RuntimeWarning: divide by zero encountered in log2\n",
      "  plt.plot(n_log, np.log2(fortran_lc_time))\n"
     ]
    },
    {
     "data": {
      "text/plain": [
       "[<matplotlib.lines.Line2D at 0x7f49ec626910>]"
      ]
     },
     "execution_count": 28,
     "metadata": {},
     "output_type": "execute_result"
    },
    {
     "data": {
      "image/png": "[encoded data removed]",
      "text/plain": [
       "<Figure size 640x480 with 1 Axes>"
      ]
     },
     "metadata": {},
     "output_type": "display_data"
    }
   ],
   "source": [
    "plt.plot(n_log, np.log2(fortran_cl_time))\n",
    "plt.plot(n_log, np.log2(fortran_lc_time))"
   ]
  }
 ],
 "metadata": {
  "kernelspec": {
   "display_name": "Python 3",
   "language": "python",
   "name": "python3"
  },
  "language_info": {
   "codemirror_mode": {
    "name": "ipython",
    "version": 3
   },
   "file_extension": ".py",
   "mimetype": "text/x-python",
   "name": "python",
   "nbconvert_exporter": "python",
   "pygments_lexer": "ipython3",
   "version": "3.8.10"
  },
  "orig_nbformat": 4
 },
 "nbformat": 4,
 "nbformat_minor": 2
}
