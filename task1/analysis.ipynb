{
 "cells": [
  {
   "attachments": {},
   "cell_type": "markdown",
   "metadata": {},
   "source": [
    "## Bibliotecas"
   ]
  },
  {
   "cell_type": "code",
   "execution_count": 25,
   "metadata": {},
   "outputs": [],
   "source": [
    "import subprocess\n",
    "import pandas as pd\n",
    "import numpy as np\n",
    "import matplotlib.pyplot as plt"
   ]
  },
  {
   "attachments": {},
   "cell_type": "markdown",
   "metadata": {},
   "source": [
    "## Estimativa da memória\n",
    "\n",
    "- O ambiente utilizado para essa execução é um WSL com Ubunto como OS\n",
    "- No momento da execução, há MemFree é a quantidade de memória livre, do total (MemTotal) do sistema\n",
    "\n",
    "O Valor da memória livre varia dependendo dos programas em execução"
   ]
  },
  {
   "cell_type": "code",
   "execution_count": 17,
   "metadata": {},
   "outputs": [
    {
     "name": "stdout",
     "output_type": "stream",
     "text": [
      "MemTotal:       16469120 kB\n",
      "\n",
      "MemFree:        12003612 kB\n",
      "\n"
     ]
    }
   ],
   "source": [
    "with open(\"/proc/meminfo\", 'r') as memory_status:\n",
    "    lines = memory_status.readlines()\n",
    "    memtotal = int(lines[0].split('kB')[0].split(':')[1])\n",
    "    print(lines[0])\n",
    "    print(lines[1])\n",
    "    "
   ]
  },
  {
   "attachments": {},
   "cell_type": "markdown",
   "metadata": {},
   "source": [
    "O consumo de memória dos programa se dá, manjoritariamente, pela alocação da matriz, ou seja, complexidade de espaço $O(n^2)$. Dessa forma, assumindo que os programas podem utilizar toda a memória do sistema, temos que:\n",
    "\n",
    "$$\n",
    "    n_{max}^2  \\cdot size(e) \\leq mtotal \\\\\n",
    "   \n",
    "$$\n",
    "$$\n",
    " n_{max} \\leq \\sqrt{\\frac{mtotal}{size(e)}}\n",
    "$$\n",
    "\n",
    "Sendo $n_{max}$ o tamanho máximo da dimensão da matriz, $size(e)$ o número de bytes necessário para armazenar um elemento da matriz e  $mfree$ a quantidade de memória livre em bytes.\n",
    "\n",
    "\n",
    "Nesse sentindo, supondo que a memória impressa anteriormente estará livre e disponível para a alocação pelo programador, no momento da execução do programa, teríamos os seguintes valores de $n_{max}$ para Fortran utilizando tipo $Real$ ( $size(e) = 16$) e para C utilizando tipo $float$ ($size(e) = 4$).\n"
   ]
  },
  {
   "cell_type": "code",
   "execution_count": 18,
   "metadata": {},
   "outputs": [
    {
     "data": {
      "text/plain": [
       "(32083, 64166)"
      ]
     },
     "execution_count": 18,
     "metadata": {},
     "output_type": "execute_result"
    }
   ],
   "source": [
    "n_max_fortran =  round(np.sqrt(memtotal*1000/16))\n",
    "n_max_c = round(np.sqrt(memtotal*1000/4))\n",
    "n_max_fortran, n_max_c"
   ]
  },
  {
   "attachments": {},
   "cell_type": "markdown",
   "metadata": {},
   "source": [
    "## Estimativa de Tempo para cada N"
   ]
  },
  {
   "attachments": {},
   "cell_type": "markdown",
   "metadata": {},
   "source": [
    "### Para o programa em Fortran\n",
    "<hr/>"
   ]
  },
  {
   "attachments": {},
   "cell_type": "markdown",
   "metadata": {},
   "source": [
    "- Sem inverter o loop"
   ]
  },
  {
   "cell_type": "code",
   "execution_count": 14,
   "metadata": {},
   "outputs": [],
   "source": [
    "csv_file = 'results/fortran_lc.csv'\n",
    "with open(csv_file, 'a') as f:\n",
    "    f.write('n,tempo\\n')"
   ]
  },
  {
   "cell_type": "code",
   "execution_count": 15,
   "metadata": {},
   "outputs": [
    {
     "name": "stdout",
     "output_type": "stream",
     "text": [
      "b''\n"
     ]
    },
    {
     "name": "stderr",
     "output_type": "stream",
     "text": [
      "Operating system error: Cannot allocate memory\n",
      "Allocation would exceed memory limit\n",
      "\n",
      "Error termination. Backtrace:\n",
      "#0  0x7f97a53a0d5a\n",
      "#1  0x7f97a53a1869\n",
      "#2  0x7f97a53a1ac4\n",
      "#3  0x7f97a568f518\n",
      "#4  0x7f97a568fbe4\n",
      "#5  0x7f97a51a4082\n",
      "#6  0x7f97a568f16d\n",
      "#7  0xffffffffffffffff\n"
     ]
    }
   ],
   "source": [
    "n = 2\n",
    "while True:\n",
    "    try:\n",
    "        out = subprocess.check_output([\"./src/program1.out\", f'{n}', '0'])\n",
    "    except subprocess.CalledProcessError as e:\n",
    "        print(e.output)\n",
    "        break\n",
    "    else: \n",
    "        with open(csv_file, 'a') as f:\n",
    "            f.write(f'{n},{float(out)}\\n')\n",
    "        n *= 2"
   ]
  },
  {
   "attachments": {},
   "cell_type": "markdown",
   "metadata": {},
   "source": [
    "- Invertendo o loop"
   ]
  },
  {
   "cell_type": "code",
   "execution_count": 57,
   "metadata": {},
   "outputs": [],
   "source": [
    "csv_file = 'results/fortran_cl.csv'\n",
    "with open(csv_file, 'a') as f:\n",
    "    f.write('n, tempo\\n')"
   ]
  },
  {
   "cell_type": "code",
   "execution_count": 58,
   "metadata": {},
   "outputs": [
    {
     "name": "stdout",
     "output_type": "stream",
     "text": [
      "b''\n"
     ]
    },
    {
     "name": "stderr",
     "output_type": "stream",
     "text": [
      "Operating system error: Cannot allocate memory\n",
      "Allocation would exceed memory limit\n",
      "\n",
      "Error termination. Backtrace:\n",
      "#0  0x7fddd6620d5a\n",
      "#1  0x7fddd6621869\n",
      "#2  0x7fddd6621ac4\n",
      "#3  0x7fddd6918518\n",
      "#4  0x7fddd6918be4\n",
      "#5  0x7fddd6424082\n",
      "#6  0x7fddd691816d\n",
      "#7  0xffffffffffffffff\n"
     ]
    }
   ],
   "source": [
    "n = 2\n",
    "while True:\n",
    "    try:\n",
    "        out = subprocess.check_output([\"./src/program1.out\", f'{n}', '1'])\n",
    "    except subprocess.CalledProcessError as e:\n",
    "        print(e.output)\n",
    "        break\n",
    "    else: \n",
    "        with open(csv_file, 'a') as f:\n",
    "            f.write(f'{n}, {float(out)}\\n')\n",
    "        n *= 2"
   ]
  },
  {
   "attachments": {},
   "cell_type": "markdown",
   "metadata": {},
   "source": [
    "### Para o programa em C\n",
    "<hr/>"
   ]
  },
  {
   "attachments": {},
   "cell_type": "markdown",
   "metadata": {},
   "source": [
    "- Sem inverter o loop"
   ]
  },
  {
   "cell_type": "code",
   "execution_count": 59,
   "metadata": {},
   "outputs": [],
   "source": [
    "csv_file = 'results/c_lc.csv'\n",
    "with open(csv_file, 'a') as f:\n",
    "    f.write('n,tempo\\n')"
   ]
  },
  {
   "cell_type": "code",
   "execution_count": 60,
   "metadata": {},
   "outputs": [
    {
     "name": "stdout",
     "output_type": "stream",
     "text": [
      "b''\n"
     ]
    }
   ],
   "source": [
    "n = 2\n",
    "while True:\n",
    "    try:\n",
    "        out = subprocess.check_output([\"./src/program2.out\", f'{n}', '0'])\n",
    "    except subprocess.CalledProcessError as e:\n",
    "        print(e.output)\n",
    "        break\n",
    "    else: \n",
    "        with open(csv_file, 'a') as f:\n",
    "            f.write(f'{n}, {float(out)}\\n')\n",
    "        n *= 2"
   ]
  },
  {
   "attachments": {},
   "cell_type": "markdown",
   "metadata": {},
   "source": [
    "- Invertendo o loop"
   ]
  },
  {
   "cell_type": "code",
   "execution_count": 61,
   "metadata": {},
   "outputs": [],
   "source": [
    "csv_file = 'results/c_cl.csv'\n",
    "with open(csv_file, 'a') as f:\n",
    "    f.write('n,tempo\\n')"
   ]
  },
  {
   "cell_type": "code",
   "execution_count": 62,
   "metadata": {},
   "outputs": [
    {
     "name": "stdout",
     "output_type": "stream",
     "text": [
      "b''\n"
     ]
    }
   ],
   "source": [
    "n = 2\n",
    "while True:\n",
    "    try:\n",
    "        out = subprocess.check_output([\"./src/program2.out\", f'{n}', '1'])\n",
    "    except subprocess.CalledProcessError as e:\n",
    "        print(e.output)\n",
    "        break\n",
    "    else: \n",
    "        with open(csv_file, 'a') as f:\n",
    "            f.write(f'{n}, {float(out)}\\n')\n",
    "        n *= 2"
   ]
  },
  {
   "attachments": {},
   "cell_type": "markdown",
   "metadata": {},
   "source": [
    "## Análise"
   ]
  }
 ],
 "metadata": {
  "kernelspec": {
   "display_name": "Python 3",
   "language": "python",
   "name": "python3"
  },
  "language_info": {
   "codemirror_mode": {
    "name": "ipython",
    "version": 3
   },
   "file_extension": ".py",
   "mimetype": "text/x-python",
   "name": "python",
   "nbconvert_exporter": "python",
   "pygments_lexer": "ipython3",
   "version": "3.8.10"
  },
  "orig_nbformat": 4
 },
 "nbformat": 4,
 "nbformat_minor": 2
}
